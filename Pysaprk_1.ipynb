{
  "nbformat": 4,
  "nbformat_minor": 0,
  "metadata": {
    "colab": {
      "provenance": [],
      "authorship_tag": "ABX9TyPgzN6+Z7haUbv/fygi2NDm",
      "include_colab_link": true
    },
    "kernelspec": {
      "name": "python3",
      "display_name": "Python 3"
    },
    "language_info": {
      "name": "python"
    }
  },
  "cells": [
    {
      "cell_type": "markdown",
      "metadata": {
        "id": "view-in-github",
        "colab_type": "text"
      },
      "source": [
        "<a href=\"https://colab.research.google.com/github/dan9133/Pyspark_Capstone_projects_Airlines_Dataset/blob/main/Pysaprk_1.ipynb\" target=\"_parent\"><img src=\"https://colab.research.google.com/assets/colab-badge.svg\" alt=\"Open In Colab\"/></a>"
      ]
    },
    {
      "cell_type": "code",
      "execution_count": null,
      "metadata": {
        "colab": {
          "base_uri": "https://localhost:8080/"
        },
        "id": "GvqlQg8C7sTI",
        "outputId": "f4f5aab3-593d-4e93-a381-1b14001df973"
      },
      "outputs": [
        {
          "output_type": "stream",
          "name": "stdout",
          "text": [
            "Looking in indexes: https://pypi.org/simple, https://us-python.pkg.dev/colab-wheels/public/simple/\n",
            "Collecting pyspark\n",
            "  Downloading pyspark-3.4.0.tar.gz (310.8 MB)\n",
            "\u001b[2K     \u001b[90m━━━━━━━━━━━━━━━━━━━━━━━━━━━━━━━━━━━━━━━\u001b[0m \u001b[32m310.8/310.8 MB\u001b[0m \u001b[31m2.9 MB/s\u001b[0m eta \u001b[36m0:00:00\u001b[0m\n",
            "\u001b[?25h  Preparing metadata (setup.py) ... \u001b[?25l\u001b[?25hdone\n",
            "Requirement already satisfied: py4j==0.10.9.7 in /usr/local/lib/python3.10/dist-packages (from pyspark) (0.10.9.7)\n",
            "Building wheels for collected packages: pyspark\n",
            "  Building wheel for pyspark (setup.py) ... \u001b[?25l\u001b[?25hdone\n",
            "  Created wheel for pyspark: filename=pyspark-3.4.0-py2.py3-none-any.whl size=311317130 sha256=873be2c510806d5dfb2a6844d3b76713c95af31caf895749bb496ee45c09f825\n",
            "  Stored in directory: /root/.cache/pip/wheels/7b/1b/4b/3363a1d04368e7ff0d408e57ff57966fcdf00583774e761327\n",
            "Successfully built pyspark\n",
            "Installing collected packages: pyspark\n",
            "Successfully installed pyspark-3.4.0\n"
          ]
        }
      ],
      "source": [
        " pip install pyspark\n"
      ]
    },
    {
      "cell_type": "code",
      "source": [
        "# import  Spark_context\n",
        "from pyspark import SparkContext,SparkConf\n"
      ],
      "metadata": {
        "id": "NbJYDT1XNQyL"
      },
      "execution_count": null,
      "outputs": []
    },
    {
      "cell_type": "code",
      "source": [
        "# COnfigure SC and set master demo\n",
        "conf=SparkConf().setAppName(\"demo\").setMaster(\"local\")"
      ],
      "metadata": {
        "id": "j_-HLsYHOrZf"
      },
      "execution_count": null,
      "outputs": []
    },
    {
      "cell_type": "code",
      "source": [
        "# set SC with Conf\n",
        "sc=SparkContext(conf=conf)"
      ],
      "metadata": {
        "id": "0UDBoyVUPJTp"
      },
      "execution_count": null,
      "outputs": []
    },
    {
      "cell_type": "code",
      "source": [
        "# write a Rdd with SC\n",
        "rdd=sc.parallelize(['a','b'])"
      ],
      "metadata": {
        "id": "BOo9qkf4PINA"
      },
      "execution_count": null,
      "outputs": []
    },
    {
      "cell_type": "code",
      "source": [
        "# Acton the RDD\n",
        "rdd.collect()"
      ],
      "metadata": {
        "colab": {
          "base_uri": "https://localhost:8080/"
        },
        "id": "lPMLNbIrPzsb",
        "outputId": "b49786d4-8336-4b7a-f50c-3c556a7e8996"
      },
      "execution_count": null,
      "outputs": [
        {
          "output_type": "execute_result",
          "data": {
            "text/plain": [
              "['a', 'b']"
            ]
          },
          "metadata": {},
          "execution_count": 7
        }
      ]
    },
    {
      "cell_type": "code",
      "source": [
        "  # create the spark sessions\n",
        "  from pyspark.sql import SparkSession\n",
        "\n",
        "\n",
        "\n"
      ],
      "metadata": {
        "id": "NCp4MNo49ma-"
      },
      "execution_count": null,
      "outputs": []
    },
    {
      "cell_type": "code",
      "source": [
        " # build/Create SS\n",
        " spark=SparkSession.builder.getOrCreate()"
      ],
      "metadata": {
        "id": "UrIpUDoTNMwp"
      },
      "execution_count": null,
      "outputs": []
    },
    {
      "cell_type": "code",
      "source": [
        "# Create data frame\n",
        "df=spark.createDataFrame([(\"a\",\"b\")])"
      ],
      "metadata": {
        "id": "qeU5cLzAQhBJ"
      },
      "execution_count": null,
      "outputs": []
    },
    {
      "cell_type": "code",
      "source": [
        "# Action DF\n",
        "df.show()\n",
        "\n"
      ],
      "metadata": {
        "id": "rdnkJvAy9qln",
        "colab": {
          "base_uri": "https://localhost:8080/"
        },
        "outputId": "c53bb910-86f8-4c6e-cc42-a8824d8e6bd1"
      },
      "execution_count": null,
      "outputs": [
        {
          "output_type": "stream",
          "name": "stdout",
          "text": [
            "+---+---+\n",
            "| _1| _2|\n",
            "+---+---+\n",
            "|  a|  b|\n",
            "+---+---+\n",
            "\n"
          ]
        }
      ]
    },
    {
      "cell_type": "code",
      "source": [
        "# # Create namerdd from NameList\n",
        "\n",
        "namelist=['Adam','Cray','Shaun','Brain','Mark','Christ','Shail','Satya','Mark','Norby','Frans','Mark','Bill']\n",
        "rdd=sc.parallelize(namelist)\n"
      ],
      "metadata": {
        "id": "k4_P72TNRkKm"
      },
      "execution_count": null,
      "outputs": []
    },
    {
      "cell_type": "code",
      "source": [
        "rdd.collect()\n"
      ],
      "metadata": {
        "id": "u0xQYGpR_WaV",
        "colab": {
          "base_uri": "https://localhost:8080/"
        },
        "outputId": "38c9393c-a9dd-4ddc-9e60-335453b80bac"
      },
      "execution_count": null,
      "outputs": [
        {
          "output_type": "execute_result",
          "data": {
            "text/plain": [
              "['Adam',\n",
              " 'Cray',\n",
              " 'Shaun',\n",
              " 'Brain',\n",
              " 'Mark',\n",
              " 'Christ',\n",
              " 'Shail',\n",
              " 'Satya',\n",
              " 'Mark',\n",
              " 'Norby',\n",
              " 'Frans',\n",
              " 'Mark',\n",
              " 'Bill']"
            ]
          },
          "metadata": {},
          "execution_count": 20
        }
      ]
    },
    {
      "cell_type": "code",
      "source": [
        "# Find out the data type of namelist\n",
        "type(namelist)"
      ],
      "metadata": {
        "colab": {
          "base_uri": "https://localhost:8080/"
        },
        "id": "26ILuagemxAf",
        "outputId": "4a548b86-5ba2-469e-8ff6-23a85fe4695f"
      },
      "execution_count": null,
      "outputs": [
        {
          "output_type": "execute_result",
          "data": {
            "text/plain": [
              "list"
            ]
          },
          "metadata": {},
          "execution_count": 22
        }
      ]
    },
    {
      "cell_type": "code",
      "source": [
        "# count by values\n",
        "rdd.countByValue()"
      ],
      "metadata": {
        "colab": {
          "base_uri": "https://localhost:8080/"
        },
        "id": "ICw-knL9m8sn",
        "outputId": "ef5543ae-c3ed-466a-d2d7-eb54aad89ae1"
      },
      "execution_count": null,
      "outputs": [
        {
          "output_type": "execute_result",
          "data": {
            "text/plain": [
              "defaultdict(int,\n",
              "            {'Adam': 1,\n",
              "             'Cray': 1,\n",
              "             'Shaun': 1,\n",
              "             'Brain': 1,\n",
              "             'Mark': 3,\n",
              "             'Christ': 1,\n",
              "             'Shail': 1,\n",
              "             'Satya': 1,\n",
              "             'Norby': 1,\n",
              "             'Frans': 1,\n",
              "             'Bill': 1})"
            ]
          },
          "metadata": {},
          "execution_count": 23
        }
      ]
    },
    {
      "cell_type": "code",
      "source": [
        "#Print only first element in the list\n",
        "rdd.first()"
      ],
      "metadata": {
        "colab": {
          "base_uri": "https://localhost:8080/",
          "height": 35
        },
        "id": "9gQRen0bnST3",
        "outputId": "5e9b4fd3-d772-4742-8e6f-6aa195fce455"
      },
      "execution_count": null,
      "outputs": [
        {
          "output_type": "execute_result",
          "data": {
            "text/plain": [
              "'Adam'"
            ],
            "application/vnd.google.colaboratory.intrinsic+json": {
              "type": "string"
            }
          },
          "metadata": {},
          "execution_count": 24
        }
      ]
    },
    {
      "cell_type": "code",
      "source": [
        "#Print top 5 elements in the list\n",
        "rdd.top(5)  # It will take randomly name of the elements"
      ],
      "metadata": {
        "colab": {
          "base_uri": "https://localhost:8080/"
        },
        "id": "nfpOVjEIndhX",
        "outputId": "bc3ebba9-af1b-4d03-ff13-e45909eef0e2"
      },
      "execution_count": null,
      "outputs": [
        {
          "output_type": "execute_result",
          "data": {
            "text/plain": [
              "['Shaun', 'Shail', 'Satya', 'Norby', 'Mark']"
            ]
          },
          "metadata": {},
          "execution_count": 25
        }
      ]
    },
    {
      "cell_type": "code",
      "source": [
        "# Create rdd from [ \"Bills\", \"Mark\",\"Brain\",\"Mick\"]\n",
        "# Output: ['Mr. Bills', 'Mr. Mark', 'Mr. Brain', 'Mr. Mick']\n",
        "\n",
        "name= [ \"Bills\", \"Mark\",\"Brain\",\"Mick\"]"
      ],
      "metadata": {
        "id": "v-323FG7nluK"
      },
      "execution_count": null,
      "outputs": []
    },
    {
      "cell_type": "code",
      "source": [
        "rdd=sc.parallelize(name)"
      ],
      "metadata": {
        "id": "xsRfnh_1oEXB"
      },
      "execution_count": null,
      "outputs": []
    },
    {
      "cell_type": "code",
      "source": [
        "rdd.collect()"
      ],
      "metadata": {
        "colab": {
          "base_uri": "https://localhost:8080/"
        },
        "id": "APh-_vR0oJK_",
        "outputId": "c46770aa-92f5-4fc4-bef0-eafeb3ab2a5d"
      },
      "execution_count": null,
      "outputs": [
        {
          "output_type": "execute_result",
          "data": {
            "text/plain": [
              "['Bills', 'Mark', 'Brain', 'Mick']"
            ]
          },
          "metadata": {},
          "execution_count": 30
        }
      ]
    },
    {
      "cell_type": "code",
      "source": [
        "# Use Map with LAmbda Fun()\n",
        "RDD=rdd.map(lambda x: \"Mr.\" +x)"
      ],
      "metadata": {
        "id": "HK7ur1YvoP5G"
      },
      "execution_count": null,
      "outputs": []
    },
    {
      "cell_type": "code",
      "source": [
        "RDD.collect()"
      ],
      "metadata": {
        "colab": {
          "base_uri": "https://localhost:8080/"
        },
        "id": "e8vApPdeok5O",
        "outputId": "52ceb552-a0da-4aa4-b37e-1bc7efc64ed2"
      },
      "execution_count": null,
      "outputs": [
        {
          "output_type": "execute_result",
          "data": {
            "text/plain": [
              "['Mr.Bills', 'Mr.Mark', 'Mr.Brain', 'Mr.Mick']"
            ]
          },
          "metadata": {},
          "execution_count": 33
        }
      ]
    },
    {
      "cell_type": "code",
      "source": [
        "# Create rdd from [2,4,8,6,10]\n",
        "  # a.Output: [4, 8, 16, 12, 20]\n",
        "\n",
        "   #b.Output [8, 64, 512, 216, 1000]\n",
        "\n",
        "list=[2,4,8,6,10]"
      ],
      "metadata": {
        "id": "UsL7d7FgovjR"
      },
      "execution_count": null,
      "outputs": []
    },
    {
      "cell_type": "code",
      "source": [
        "rdd1=sc.parallelize(list)"
      ],
      "metadata": {
        "id": "bkQ9uDm3o-ah"
      },
      "execution_count": null,
      "outputs": []
    },
    {
      "cell_type": "code",
      "source": [
        "rdd1.collect()"
      ],
      "metadata": {
        "colab": {
          "base_uri": "https://localhost:8080/"
        },
        "id": "AsRGoBsupF2w",
        "outputId": "1fb8f14e-dd88-40bc-e26b-bfd1f3f45082"
      },
      "execution_count": null,
      "outputs": [
        {
          "output_type": "execute_result",
          "data": {
            "text/plain": [
              "[2, 4, 8, 6, 10]"
            ]
          },
          "metadata": {},
          "execution_count": 36
        }
      ]
    },
    {
      "cell_type": "code",
      "source": [
        "# Use the power fun in lambda\n",
        "Multiple=rdd1.map(lambda a :a*2)"
      ],
      "metadata": {
        "id": "UsUVD2a3pKLF"
      },
      "execution_count": null,
      "outputs": []
    },
    {
      "cell_type": "code",
      "source": [
        "Multiple.collect()  # Data Bricks Also Case sensetive"
      ],
      "metadata": {
        "colab": {
          "base_uri": "https://localhost:8080/"
        },
        "id": "DzE-XBEMppKN",
        "outputId": "b309ccde-4029-4ad3-ce61-ab13dd01e2db"
      },
      "execution_count": null,
      "outputs": [
        {
          "output_type": "execute_result",
          "data": {
            "text/plain": [
              "[4, 8, 16, 12, 20]"
            ]
          },
          "metadata": {},
          "execution_count": 43
        }
      ]
    },
    {
      "cell_type": "code",
      "source": [
        "# find the cube use map in lambda fun()\n",
        "power_cube=rdd1.map(lambda a:pow(a,3))"
      ],
      "metadata": {
        "id": "lIpvp9QiqXHC"
      },
      "execution_count": null,
      "outputs": []
    },
    {
      "cell_type": "code",
      "source": [
        "power_cube.collect()"
      ],
      "metadata": {
        "colab": {
          "base_uri": "https://localhost:8080/"
        },
        "id": "gb8AnksPqx-A",
        "outputId": "f9302461-9c5d-4460-912a-06b21bf6dcb4"
      },
      "execution_count": null,
      "outputs": [
        {
          "output_type": "execute_result",
          "data": {
            "text/plain": [
              "[8, 64, 512, 216, 1000]"
            ]
          },
          "metadata": {},
          "execution_count": 49
        }
      ]
    },
    {
      "cell_type": "code",
      "source": [
        "# ### ASSIGMENT TASK\n",
        "#Create namerdd from NameList ,\n",
        "\n",
        "namelist = ['Ana','Bob']"
      ],
      "metadata": {
        "id": "NMncuXNTq1fa"
      },
      "execution_count": null,
      "outputs": []
    },
    {
      "cell_type": "code",
      "source": [
        "Rdd=sc.parallelize(namelist)"
      ],
      "metadata": {
        "id": "Q1NQHVEhrXgp"
      },
      "execution_count": null,
      "outputs": []
    },
    {
      "cell_type": "code",
      "source": [
        "Rdd.collect()"
      ],
      "metadata": {
        "colab": {
          "base_uri": "https://localhost:8080/"
        },
        "id": "skF6Wszxrc_K",
        "outputId": "971139db-6c15-4b78-8036-72d0793a06fe"
      },
      "execution_count": null,
      "outputs": [
        {
          "output_type": "execute_result",
          "data": {
            "text/plain": [
              "['Ana', 'Bob']"
            ]
          },
          "metadata": {},
          "execution_count": 54
        }
      ]
    },
    {
      "cell_type": "code",
      "source": [
        "# create a rdd from nameRDD, which output: ['Ana2nd', 'Bob2nd']\n",
        "OtherRdd=Rdd.map(lambda x: x + '2nd')"
      ],
      "metadata": {
        "id": "tRAjql3Jryq3"
      },
      "execution_count": null,
      "outputs": []
    },
    {
      "cell_type": "code",
      "source": [
        "OtherRdd.collect()"
      ],
      "metadata": {
        "colab": {
          "base_uri": "https://localhost:8080/"
        },
        "id": "Zk1HuP8dsI4a",
        "outputId": "7fcf4441-3c0b-4382-fcd4-fe07d7e85706"
      },
      "execution_count": null,
      "outputs": [
        {
          "output_type": "execute_result",
          "data": {
            "text/plain": [
              "['Ana2nd', 'Bob2nd']"
            ]
          },
          "metadata": {},
          "execution_count": 60
        }
      ]
    },
    {
      "cell_type": "code",
      "source": [
        "#create a pair RDD from nameRDD using map, output should be [('Ana', 20), ('Bob', 20)\n",
        "pairRDD=Rdd.map(lambda a: (a,20))"
      ],
      "metadata": {
        "id": "leTYFFavsLP8"
      },
      "execution_count": null,
      "outputs": []
    },
    {
      "cell_type": "code",
      "source": [
        "pairRDD.collect()"
      ],
      "metadata": {
        "colab": {
          "base_uri": "https://localhost:8080/"
        },
        "id": "FqIu_VBFtSS8",
        "outputId": "4a8812bc-cdc1-40db-9a49-f0a5152ef0e1"
      },
      "execution_count": null,
      "outputs": [
        {
          "output_type": "execute_result",
          "data": {
            "text/plain": [
              "[('Ana', 20), ('Bob', 20)]"
            ]
          },
          "metadata": {},
          "execution_count": 66
        }
      ]
    },
    {
      "cell_type": "code",
      "source": [
        "##given a nameRDD : [['Ana','Bob'],['Caren']], use map or flatMap to return: ['Ana', 'Bob', 'plus', 'Caren', 'plus']\n",
        "\n",
        "\n",
        "nameslist = (['Ana','Bob'],['Caren'])"
      ],
      "metadata": {
        "id": "Ndto_qS0tXZU"
      },
      "execution_count": null,
      "outputs": []
    },
    {
      "cell_type": "code",
      "source": [
        "rdd=sc.parallelize(nameslist)"
      ],
      "metadata": {
        "id": "5fRsbU_et8Q3"
      },
      "execution_count": null,
      "outputs": []
    },
    {
      "cell_type": "code",
      "source": [
        "rdd2=rdd.flatMap(lambda x : x+ ['plus'] )"
      ],
      "metadata": {
        "id": "cKu9UACYuFBq"
      },
      "execution_count": null,
      "outputs": []
    },
    {
      "cell_type": "code",
      "source": [
        "rdd2.collect()"
      ],
      "metadata": {
        "colab": {
          "base_uri": "https://localhost:8080/"
        },
        "id": "rinpr84zvLpY",
        "outputId": "c47b0345-00c8-4968-a55f-5e53d3f19eed"
      },
      "execution_count": null,
      "outputs": [
        {
          "output_type": "execute_result",
          "data": {
            "text/plain": [
              "['Ana', 'Bob', 'plus', 'Caren', 'plus']"
            ]
          },
          "metadata": {},
          "execution_count": 77
        }
      ]
    },
    {
      "cell_type": "code",
      "source": [
        "rdd3=rdd.map(lambda x :x +['plus'])"
      ],
      "metadata": {
        "id": "4mA86qe3vrPj"
      },
      "execution_count": null,
      "outputs": []
    },
    {
      "cell_type": "code",
      "source": [
        "rdd3.collect()"
      ],
      "metadata": {
        "colab": {
          "base_uri": "https://localhost:8080/"
        },
        "id": "euwMHjOGwJAZ",
        "outputId": "48b7471b-083b-4a7c-ffdc-d3bd99c06249"
      },
      "execution_count": null,
      "outputs": [
        {
          "output_type": "execute_result",
          "data": {
            "text/plain": [
              "[['Ana', 'Bob', 'plus'], ['Caren', 'plus']]"
            ]
          },
          "metadata": {},
          "execution_count": 79
        }
      ]
    },
    {
      "cell_type": "code",
      "source": [
        "# Create a country list\n",
        "country=['India','Brazil','UK','USA','Russia','India']\n",
        "rdd4=sc.parallelize(country)"
      ],
      "metadata": {
        "id": "o-I4xFRVwK3f"
      },
      "execution_count": null,
      "outputs": []
    },
    {
      "cell_type": "code",
      "source": [
        "rdd4.collect()"
      ],
      "metadata": {
        "colab": {
          "base_uri": "https://localhost:8080/"
        },
        "id": "A42yG-fxxMZs",
        "outputId": "ffd7be7f-1fed-48f8-f8dd-d0adf41ef590"
      },
      "execution_count": null,
      "outputs": [
        {
          "output_type": "execute_result",
          "data": {
            "text/plain": [
              "['India', 'Brazil', 'UK', 'USA', 'Russia', 'India']"
            ]
          },
          "metadata": {},
          "execution_count": 87
        }
      ]
    },
    {
      "cell_type": "code",
      "source": [
        "# use Count\n",
        "rdd4.count()"
      ],
      "metadata": {
        "colab": {
          "base_uri": "https://localhost:8080/"
        },
        "id": "kYYg7CzNxPG2",
        "outputId": "c54d6ad3-011e-46f8-88f1-32373f33ce77"
      },
      "execution_count": null,
      "outputs": [
        {
          "output_type": "execute_result",
          "data": {
            "text/plain": [
              "6"
            ]
          },
          "metadata": {},
          "execution_count": 88
        }
      ]
    },
    {
      "cell_type": "code",
      "source": [
        "rdd4.countByValue()"
      ],
      "metadata": {
        "colab": {
          "base_uri": "https://localhost:8080/"
        },
        "id": "S5vqGiPQxTr3",
        "outputId": "aad95430-1b22-430a-b2a7-4a2da090a8c0"
      },
      "execution_count": null,
      "outputs": [
        {
          "output_type": "execute_result",
          "data": {
            "text/plain": [
              "defaultdict(int, {'India': 2, 'Brazil': 1, 'UK': 1, 'USA': 1, 'Russia': 1})"
            ]
          },
          "metadata": {},
          "execution_count": 91
        }
      ]
    },
    {
      "cell_type": "code",
      "source": [
        "rdd4.take(1)"
      ],
      "metadata": {
        "colab": {
          "base_uri": "https://localhost:8080/"
        },
        "id": "t0pRsKOrxdbV",
        "outputId": "97c3eb38-1c41-4764-9579-2915db033ff1"
      },
      "execution_count": null,
      "outputs": [
        {
          "output_type": "execute_result",
          "data": {
            "text/plain": [
              "['India']"
            ]
          },
          "metadata": {},
          "execution_count": 93
        }
      ]
    },
    {
      "cell_type": "code",
      "source": [
        "[1,2,3,4,5,6,7,8,9,10]\n",
        "[1,11,100,2,12,100,3,13,100,4,14,100,5,15,100,6,7,8,9,10]"
      ],
      "metadata": {
        "colab": {
          "base_uri": "https://localhost:8080/"
        },
        "id": "rLiXfv8lyHfm",
        "outputId": "bafdcf41-c844-4540-d4b7-f7b2200c67af"
      },
      "execution_count": null,
      "outputs": [
        {
          "output_type": "execute_result",
          "data": {
            "text/plain": [
              "[1, 11, 100, 2, 12, 100, 3, 13, 100, 4, 14, 100, 5, 15, 100, 6, 7, 8, 9, 10]"
            ]
          },
          "metadata": {},
          "execution_count": 94
        }
      ]
    },
    {
      "cell_type": "code",
      "source": [
        "rdd5=rdd1.flatMap(lambda x: (x,x+10,100))"
      ],
      "metadata": {
        "id": "ZtUsBfB7yf1E"
      },
      "execution_count": null,
      "outputs": []
    },
    {
      "cell_type": "code",
      "source": [
        "rdd5.collect()"
      ],
      "metadata": {
        "colab": {
          "base_uri": "https://localhost:8080/"
        },
        "id": "NGIopETNy0RV",
        "outputId": "55dea451-395c-411d-bf74-018947ab51b1"
      },
      "execution_count": null,
      "outputs": [
        {
          "output_type": "execute_result",
          "data": {
            "text/plain": [
              "[2, 12, 100, 4, 14, 100, 8, 18, 100, 6, 16, 100, 10, 20, 100]"
            ]
          },
          "metadata": {},
          "execution_count": 99
        }
      ]
    },
    {
      "cell_type": "code",
      "source": [
        "# even num\n",
        "even=rdd1.map(lambda a:a%2==0)"
      ],
      "metadata": {
        "id": "cN7TYLJ3y32g"
      },
      "execution_count": null,
      "outputs": []
    },
    {
      "cell_type": "code",
      "source": [
        "even.collect()"
      ],
      "metadata": {
        "colab": {
          "base_uri": "https://localhost:8080/"
        },
        "id": "boTMVVGP0Bxl",
        "outputId": "22276a16-ec9c-4d26-c819-331b6475cd76"
      },
      "execution_count": null,
      "outputs": [
        {
          "output_type": "execute_result",
          "data": {
            "text/plain": [
              "[True, True, True, True, True]"
            ]
          },
          "metadata": {},
          "execution_count": 101
        }
      ]
    },
    {
      "cell_type": "code",
      "source": [
        "\n",
        "%md\n",
        "#### Spark Data Structures\n",
        "''' Rdd\n",
        "  DataFrame\n",
        " Dataset\n",
        " Creating a DataFrame\n",
        "create a dataframe\n",
        "\n",
        "Data\n",
        "\n",
        "I.\n",
        "\n",
        "df=spark.createDataFrame(Data,schema)\n",
        "\n",
        "II.\n",
        "\n",
        "df=spark.read.\n",
        "schema can be create by 3 different ways\n",
        "\n",
        "str\n",
        "list\n",
        "pyspark datatypes\n",
        "\n",
        "'''\n"
      ],
      "metadata": {
        "id": "bjjRzMs-0FSJ"
      },
      "execution_count": null,
      "outputs": []
    },
    {
      "cell_type": "code",
      "source": [
        "# create data frame we can first go with tranformation\n",
        "help(spark.createDataFrame)"
      ],
      "metadata": {
        "colab": {
          "base_uri": "https://localhost:8080/"
        },
        "id": "8Xa_ZNI52c40",
        "outputId": "ea09cbd0-188d-4198-e7da-fc9484659bad"
      },
      "execution_count": null,
      "outputs": [
        {
          "output_type": "stream",
          "name": "stdout",
          "text": [
            "Help on method createDataFrame in module pyspark.sql.session:\n",
            "\n",
            "createDataFrame(data: Union[pyspark.rdd.RDD[Any], Iterable[Any], ForwardRef('PandasDataFrameLike'), ForwardRef('ArrayLike')], schema: Union[pyspark.sql.types.AtomicType, pyspark.sql.types.StructType, str, NoneType] = None, samplingRatio: Optional[float] = None, verifySchema: bool = True) -> pyspark.sql.dataframe.DataFrame method of pyspark.sql.session.SparkSession instance\n",
            "    Creates a :class:`DataFrame` from an :class:`RDD`, a list, a :class:`pandas.DataFrame`\n",
            "    or a :class:`numpy.ndarray`.\n",
            "    \n",
            "    .. versionadded:: 2.0.0\n",
            "    \n",
            "    .. versionchanged:: 3.4.0\n",
            "        Supports Spark Connect.\n",
            "    \n",
            "    Parameters\n",
            "    ----------\n",
            "    data : :class:`RDD` or iterable\n",
            "        an RDD of any kind of SQL data representation (:class:`Row`,\n",
            "        :class:`tuple`, ``int``, ``boolean``, etc.), or :class:`list`,\n",
            "        :class:`pandas.DataFrame` or :class:`numpy.ndarray`.\n",
            "    schema : :class:`pyspark.sql.types.DataType`, str or list, optional\n",
            "        a :class:`pyspark.sql.types.DataType` or a datatype string or a list of\n",
            "        column names, default is None.  The data type string format equals to\n",
            "        :class:`pyspark.sql.types.DataType.simpleString`, except that top level struct type can\n",
            "        omit the ``struct<>``.\n",
            "    \n",
            "        When ``schema`` is a list of column names, the type of each column\n",
            "        will be inferred from ``data``.\n",
            "    \n",
            "        When ``schema`` is ``None``, it will try to infer the schema (column names and types)\n",
            "        from ``data``, which should be an RDD of either :class:`Row`,\n",
            "        :class:`namedtuple`, or :class:`dict`.\n",
            "    \n",
            "        When ``schema`` is :class:`pyspark.sql.types.DataType` or a datatype string, it must\n",
            "        match the real data, or an exception will be thrown at runtime. If the given schema is\n",
            "        not :class:`pyspark.sql.types.StructType`, it will be wrapped into a\n",
            "        :class:`pyspark.sql.types.StructType` as its only field, and the field name will be\n",
            "        \"value\". Each record will also be wrapped into a tuple, which can be converted to row\n",
            "        later.\n",
            "    samplingRatio : float, optional\n",
            "        the sample ratio of rows used for inferring. The first few rows will be used\n",
            "        if ``samplingRatio`` is ``None``.\n",
            "    verifySchema : bool, optional\n",
            "        verify data types of every row against schema. Enabled by default.\n",
            "    \n",
            "        .. versionadded:: 2.1.0\n",
            "    \n",
            "    Returns\n",
            "    -------\n",
            "    :class:`DataFrame`\n",
            "    \n",
            "    Notes\n",
            "    -----\n",
            "    Usage with `spark.sql.execution.arrow.pyspark.enabled=True` is experimental.\n",
            "    \n",
            "    Examples\n",
            "    --------\n",
            "    Create a DataFrame from a list of tuples.\n",
            "    \n",
            "    >>> spark.createDataFrame([('Alice', 1)]).collect()\n",
            "    [Row(_1='Alice', _2=1)]\n",
            "    >>> spark.createDataFrame([('Alice', 1)], ['name', 'age']).collect()\n",
            "    [Row(name='Alice', age=1)]\n",
            "    \n",
            "    Create a DataFrame from a list of dictionaries\n",
            "    \n",
            "    >>> d = [{'name': 'Alice', 'age': 1}]\n",
            "    >>> spark.createDataFrame(d).collect()\n",
            "    [Row(age=1, name='Alice')]\n",
            "    \n",
            "    Create a DataFrame from an RDD.\n",
            "    \n",
            "    >>> rdd = spark.sparkContext.parallelize([('Alice', 1)])\n",
            "    >>> spark.createDataFrame(rdd).collect()\n",
            "    [Row(_1='Alice', _2=1)]\n",
            "    >>> df = spark.createDataFrame(rdd, ['name', 'age'])\n",
            "    >>> df.collect()\n",
            "    [Row(name='Alice', age=1)]\n",
            "    \n",
            "    Create a DataFrame from Row instances.\n",
            "    \n",
            "    >>> from pyspark.sql import Row\n",
            "    >>> Person = Row('name', 'age')\n",
            "    >>> person = rdd.map(lambda r: Person(*r))\n",
            "    >>> df2 = spark.createDataFrame(person)\n",
            "    >>> df2.collect()\n",
            "    [Row(name='Alice', age=1)]\n",
            "    \n",
            "    Create a DataFrame with the explicit schema specified.\n",
            "    \n",
            "    >>> from pyspark.sql.types import *\n",
            "    >>> schema = StructType([\n",
            "    ...    StructField(\"name\", StringType(), True),\n",
            "    ...    StructField(\"age\", IntegerType(), True)])\n",
            "    >>> df3 = spark.createDataFrame(rdd, schema)\n",
            "    >>> df3.collect()\n",
            "    [Row(name='Alice', age=1)]\n",
            "    \n",
            "    Create a DataFrame from a pandas DataFrame.\n",
            "    \n",
            "    >>> spark.createDataFrame(df.toPandas()).collect()  # doctest: +SKIP\n",
            "    [Row(name='Alice', age=1)]\n",
            "    >>> spark.createDataFrame(pandas.DataFrame([[1, 2]])).collect()  # doctest: +SKIP\n",
            "    [Row(0=1, 1=2)]\n",
            "    \n",
            "    Create  a DataFrame from an RDD with the schema in DDL formatted string.\n",
            "    \n",
            "    >>> spark.createDataFrame(rdd, \"a: string, b: int\").collect()\n",
            "    [Row(a='Alice', b=1)]\n",
            "    >>> rdd = rdd.map(lambda row: row[1])\n",
            "    >>> spark.createDataFrame(rdd, \"int\").collect()\n",
            "    [Row(value=1)]\n",
            "    \n",
            "    When the type is unmatched, it throws an exception.\n",
            "    \n",
            "    >>> spark.createDataFrame(rdd, \"boolean\").collect() # doctest: +IGNORE_EXCEPTION_DETAIL\n",
            "    Traceback (most recent call last):\n",
            "        ...\n",
            "    Py4JJavaError: ...\n",
            "\n"
          ]
        }
      ]
    },
    {
      "cell_type": "code",
      "source": [
        "data= [(1,'a',24),(2,'b',30)]"
      ],
      "metadata": {
        "id": "VTO30kyZ2r1B"
      },
      "execution_count": null,
      "outputs": []
    },
    {
      "cell_type": "code",
      "source": [
        "df=spark.createDataFrame(data)"
      ],
      "metadata": {
        "id": "N82cvpcQ3AXB"
      },
      "execution_count": null,
      "outputs": []
    },
    {
      "cell_type": "code",
      "source": [
        "df.show()"
      ],
      "metadata": {
        "colab": {
          "base_uri": "https://localhost:8080/"
        },
        "id": "wV4BdXSi3GL7",
        "outputId": "2a278ba9-82d1-4d7d-a331-950c3ca87f59"
      },
      "execution_count": null,
      "outputs": [
        {
          "output_type": "stream",
          "name": "stdout",
          "text": [
            "+---+---+---+\n",
            "| _1| _2| _3|\n",
            "+---+---+---+\n",
            "|  1|  a| 24|\n",
            "|  2|  b| 30|\n",
            "+---+---+---+\n",
            "\n"
          ]
        }
      ]
    },
    {
      "cell_type": "code",
      "source": [
        "df.collect()"
      ],
      "metadata": {
        "colab": {
          "base_uri": "https://localhost:8080/"
        },
        "id": "mSs4ME0b3KH1",
        "outputId": "41f78bf7-a805-4896-d04b-604f3a85fb72"
      },
      "execution_count": null,
      "outputs": [
        {
          "output_type": "execute_result",
          "data": {
            "text/plain": [
              "[Row(_1=1, _2='a', _3=24), Row(_1=2, _2='b', _3=30)]"
            ]
          },
          "metadata": {},
          "execution_count": 106
        }
      ]
    },
    {
      "cell_type": "code",
      "source": [
        "display(df)  # in Data brick work properly"
      ],
      "metadata": {
        "colab": {
          "base_uri": "https://localhost:8080/",
          "height": 34
        },
        "id": "CG_wG0Dj3Oh2",
        "outputId": "4f2844ed-fe63-4a61-c45e-cda1880d164f"
      },
      "execution_count": null,
      "outputs": [
        {
          "output_type": "display_data",
          "data": {
            "text/plain": [
              "DataFrame[_1: bigint, _2: string, _3: bigint]"
            ]
          },
          "metadata": {}
        }
      ]
    },
    {
      "cell_type": "code",
      "source": [
        "# to sow the data types\n",
        "df.dtypes"
      ],
      "metadata": {
        "colab": {
          "base_uri": "https://localhost:8080/"
        },
        "id": "R1yJ_MJ73dCQ",
        "outputId": "b34db2d7-dc76-4150-88a4-c4791540f0b0"
      },
      "execution_count": null,
      "outputs": [
        {
          "output_type": "execute_result",
          "data": {
            "text/plain": [
              "[('_1', 'bigint'), ('_2', 'string'), ('_3', 'bigint')]"
            ]
          },
          "metadata": {},
          "execution_count": 108
        }
      ]
    },
    {
      "cell_type": "code",
      "source": [
        "df.printSchema()  # path of ROOTS"
      ],
      "metadata": {
        "colab": {
          "base_uri": "https://localhost:8080/"
        },
        "id": "Viac9OXP3wLP",
        "outputId": "ba5e2099-ddec-4443-fbe9-040217870d38"
      },
      "execution_count": null,
      "outputs": [
        {
          "output_type": "stream",
          "name": "stdout",
          "text": [
            "root\n",
            " |-- _1: long (nullable = true)\n",
            " |-- _2: string (nullable = true)\n",
            " |-- _3: long (nullable = true)\n",
            "\n"
          ]
        }
      ]
    },
    {
      "cell_type": "code",
      "source": [
        "users_schema= \"\"\"\n",
        "    empid int,\n",
        "    name string,\n",
        "    age int\n",
        "\"\"\""
      ],
      "metadata": {
        "id": "WvPloeuT387Q"
      },
      "execution_count": null,
      "outputs": []
    },
    {
      "cell_type": "code",
      "source": [
        "df=spark.createDataFrame(data,schema= users_schema)"
      ],
      "metadata": {
        "id": "QSMA2onG4mF3"
      },
      "execution_count": null,
      "outputs": []
    },
    {
      "cell_type": "code",
      "source": [
        "df.show()"
      ],
      "metadata": {
        "colab": {
          "base_uri": "https://localhost:8080/"
        },
        "id": "E0Hme_ZC45nI",
        "outputId": "fe7142ab-0ce9-48c2-9d61-40787050fbbd"
      },
      "execution_count": null,
      "outputs": [
        {
          "output_type": "stream",
          "name": "stdout",
          "text": [
            "+-----+----+---+\n",
            "|empid|name|age|\n",
            "+-----+----+---+\n",
            "|    1|   a| 24|\n",
            "|    2|   b| 30|\n",
            "+-----+----+---+\n",
            "\n"
          ]
        }
      ]
    },
    {
      "cell_type": "code",
      "source": [
        "display(df)"
      ],
      "metadata": {
        "colab": {
          "base_uri": "https://localhost:8080/",
          "height": 34
        },
        "id": "U8WmSVbb5bk8",
        "outputId": "41eec007-0e0a-43b1-90ad-dc7a9bb2f513"
      },
      "execution_count": null,
      "outputs": [
        {
          "output_type": "display_data",
          "data": {
            "text/plain": [
              "DataFrame[empid: int, name: string, age: int]"
            ]
          },
          "metadata": {}
        }
      ]
    },
    {
      "cell_type": "code",
      "source": [
        "df.printSchema()"
      ],
      "metadata": {
        "colab": {
          "base_uri": "https://localhost:8080/"
        },
        "id": "leZHrewM5iz0",
        "outputId": "54b781f1-f852-428b-fa49-475e354ab97f"
      },
      "execution_count": null,
      "outputs": [
        {
          "output_type": "stream",
          "name": "stdout",
          "text": [
            "root\n",
            " |-- empid: integer (nullable = true)\n",
            " |-- name: string (nullable = true)\n",
            " |-- age: integer (nullable = true)\n",
            "\n"
          ]
        }
      ]
    },
    {
      "cell_type": "code",
      "source": [
        "# import Datatimes\n",
        "\n",
        "import datetime\n",
        "users=[(1,\n",
        "       'Claire',\n",
        "       'Gute',\n",
        "        'clairegute@mail.com',\n",
        "        True,\n",
        "        1000.2,\n",
        "        datetime.date(1991,5,3),\n",
        "        datetime.date(2022,1,1)\n",
        "       ),\n",
        "       (2,\n",
        "       'Brosina',\n",
        "       'kodoli',\n",
        "        'brosina@mail.com',\n",
        "        False,\n",
        "        2000.2,\n",
        "        datetime.date(2000,4,3),\n",
        "        datetime.date(2022,3,5)\n",
        "       ),\n",
        "       (3,\n",
        "       'Andrew',\n",
        "       'Adam',\n",
        "        'andrew@mail.com',\n",
        "        True,\n",
        "        1500.2,\n",
        "        datetime.date(1995,10,21),\n",
        "        datetime.date(2021,11,10)\n",
        "       ),\n",
        "       (4,\n",
        "       'John',\n",
        "       'Allen',\n",
        "        'john@mail.com',\n",
        "        False,\n",
        "        None,\n",
        "        datetime.date(1997,6,30),\n",
        "        datetime.date(2019,3,31)\n",
        "       )\n",
        "]"
      ],
      "metadata": {
        "id": "s9WW0YBv5w_h"
      },
      "execution_count": null,
      "outputs": []
    },
    {
      "cell_type": "code",
      "source": [
        "df1=spark.createDataFrame(users)"
      ],
      "metadata": {
        "id": "k_gI3plR6UVn"
      },
      "execution_count": null,
      "outputs": []
    },
    {
      "cell_type": "code",
      "source": [
        "df1.show()"
      ],
      "metadata": {
        "colab": {
          "base_uri": "https://localhost:8080/"
        },
        "id": "80wU4nWj6ero",
        "outputId": "b2392e0a-b6df-4fb6-9cb7-2437ebd84085"
      },
      "execution_count": null,
      "outputs": [
        {
          "output_type": "stream",
          "name": "stdout",
          "text": [
            "+---+-------+------+-------------------+-----+------+----------+----------+\n",
            "| _1|     _2|    _3|                 _4|   _5|    _6|        _7|        _8|\n",
            "+---+-------+------+-------------------+-----+------+----------+----------+\n",
            "|  1| Claire|  Gute|clairegute@mail.com| true|1000.2|1991-05-03|2022-01-01|\n",
            "|  2|Brosina|kodoli|   brosina@mail.com|false|2000.2|2000-04-03|2022-03-05|\n",
            "|  3| Andrew|  Adam|    andrew@mail.com| true|1500.2|1995-10-21|2021-11-10|\n",
            "|  4|   John| Allen|      john@mail.com|false|  null|1997-06-30|2019-03-31|\n",
            "+---+-------+------+-------------------+-----+------+----------+----------+\n",
            "\n"
          ]
        }
      ]
    },
    {
      "cell_type": "code",
      "source": [
        "schema_list=[\n",
        "    \"id\",\n",
        "    \"firstname\",\n",
        "    \"lastname\",\n",
        "    \"email \",\n",
        "    \"is_customer \",\n",
        "    \"amount_paid\",\n",
        "    \"dob\",\n",
        "    \"last_update\"\n",
        "\n",
        "]"
      ],
      "metadata": {
        "id": "yp0Cjh2X6iVF"
      },
      "execution_count": null,
      "outputs": []
    },
    {
      "cell_type": "code",
      "source": [
        "df2=spark.createDataFrame(users,schema_list)"
      ],
      "metadata": {
        "id": "Sb-c2tkK6xZR"
      },
      "execution_count": null,
      "outputs": []
    },
    {
      "cell_type": "code",
      "source": [
        "df2.show()"
      ],
      "metadata": {
        "colab": {
          "base_uri": "https://localhost:8080/"
        },
        "id": "3J46aRk267DR",
        "outputId": "4239ce59-e960-4cfb-b3ab-4f895329e462"
      },
      "execution_count": null,
      "outputs": [
        {
          "output_type": "stream",
          "name": "stdout",
          "text": [
            "+---+---------+--------+-------------------+------------+-----------+----------+-----------+\n",
            "| id|firstname|lastname|             email |is_customer |amount_paid|       dob|last_update|\n",
            "+---+---------+--------+-------------------+------------+-----------+----------+-----------+\n",
            "|  1|   Claire|    Gute|clairegute@mail.com|        true|     1000.2|1991-05-03| 2022-01-01|\n",
            "|  2|  Brosina|  kodoli|   brosina@mail.com|       false|     2000.2|2000-04-03| 2022-03-05|\n",
            "|  3|   Andrew|    Adam|    andrew@mail.com|        true|     1500.2|1995-10-21| 2021-11-10|\n",
            "|  4|     John|   Allen|      john@mail.com|       false|       null|1997-06-30| 2019-03-31|\n",
            "+---+---------+--------+-------------------+------------+-----------+----------+-----------+\n",
            "\n"
          ]
        }
      ]
    },
    {
      "cell_type": "code",
      "source": [
        "df2.printSchema()"
      ],
      "metadata": {
        "colab": {
          "base_uri": "https://localhost:8080/"
        },
        "id": "6NzB2wdL7NGu",
        "outputId": "e5d0e35a-1445-4403-80d4-e1a8300c24dc"
      },
      "execution_count": null,
      "outputs": [
        {
          "output_type": "stream",
          "name": "stdout",
          "text": [
            "root\n",
            " |-- id: long (nullable = true)\n",
            " |-- firstname: string (nullable = true)\n",
            " |-- lastname: string (nullable = true)\n",
            " |-- email : string (nullable = true)\n",
            " |-- is_customer : boolean (nullable = true)\n",
            " |-- amount_paid: double (nullable = true)\n",
            " |-- dob: date (nullable = true)\n",
            " |-- last_update: date (nullable = true)\n",
            "\n"
          ]
        }
      ]
    },
    {
      "cell_type": "code",
      "source": [
        "\n",
        "import datetime\n",
        "users_json=[{\"id\":1,\n",
        "       \"first_name\":'Naval',\n",
        "       \"last_name\":'Yemul',\n",
        "        \"mail\":'navalyemul@mail.com',\n",
        "        \"phone_numbers\": [\"+123456\",\" +912324656\"],\n",
        "        \"is_customer\":True,\n",
        "        \"amount_paid\":1000.2,\n",
        "        \"customer_from\":datetime.date(2002,12,31),\n",
        "        \"last_update_ts\":datetime.date(2022,1,1)\n",
        "       },\n",
        "       {\"id\":2,\n",
        "       \"first_name\":'John',\n",
        "       \"last_name\":'Players',\n",
        "        \"mail\":'john@mail.com',\n",
        "        \"phone_numbers\": [\"+1 789 567 234 \", \"+91 124137645\"],\n",
        "        \"is_customer\":True,\n",
        "        \"amount_paid\":2000.4,\n",
        "        \"customer_from\":datetime.date(2004,5,30),\n",
        "        \"last_update_ts\":datetime.date(2022,11,29)\n",
        "       },\n",
        "       {\"id\":3,\n",
        "       \"first_name\":'Killer',\n",
        "       \"last_name\":'Spykar',\n",
        "        \"mail\":'killer@mail.com',\n",
        "        \"phone_numbers\": [\" \", \"+91 124137645\"],\n",
        "        \"is_customer\":True,\n",
        "        \"amount_paid\":3000.0,\n",
        "        \"customer_from\":datetime.date(2016,3,18),\n",
        "        \"last_update_ts\":datetime.date(2020,3,24)\n",
        "       },\n",
        "       {\"id\":4,\n",
        "       \"first_name\":'Levis',\n",
        "       \"last_name\":'Jeans',\n",
        "        \"mail\":'jeans@mail.com',\n",
        "        \"phone_numbers\": [\"+1 789 567 234 \", \" \"],\n",
        "        \"is_customer\":True,\n",
        "        \"amount_paid\":1500.5,\n",
        "        \"customer_from\":datetime.date(1990,12,3),\n",
        "        \"last_update_ts\":datetime.date(2022,3,2)\n",
        "       },\n",
        "       {\"id\":5,\n",
        "       \"first_name\":'Puma',\n",
        "       \"last_name\":'Adidas',\n",
        "        \"mail\":'puma@mail.com',\n",
        "        \"phone_numbers\": [\" \", \" \"],\n",
        "        \"is_customer\":True,\n",
        "        \"amount_paid\":500.5,\n",
        "        \"customer_from\":datetime.date(1995,2,19),\n",
        "        \"last_update_ts\":datetime.date(2022,1,21)\n",
        "       }\n",
        "\n",
        "]"
      ],
      "metadata": {
        "id": "Os2Vr61r7fO5"
      },
      "execution_count": null,
      "outputs": []
    },
    {
      "cell_type": "code",
      "source": [
        "df3=spark.createDataFrame(users_json)"
      ],
      "metadata": {
        "id": "R2LVRM5b7rI8"
      },
      "execution_count": null,
      "outputs": []
    },
    {
      "cell_type": "code",
      "source": [
        "df3.show()"
      ],
      "metadata": {
        "colab": {
          "base_uri": "https://localhost:8080/"
        },
        "id": "76cRieE07yxB",
        "outputId": "337c5045-0694-4abb-aed8-841885ab4b83"
      },
      "execution_count": null,
      "outputs": [
        {
          "output_type": "stream",
          "name": "stdout",
          "text": [
            "+-----------+-------------+----------+---+-----------+---------+--------------+-------------------+--------------------+\n",
            "|amount_paid|customer_from|first_name| id|is_customer|last_name|last_update_ts|               mail|       phone_numbers|\n",
            "+-----------+-------------+----------+---+-----------+---------+--------------+-------------------+--------------------+\n",
            "|     1000.2|   2002-12-31|     Naval|  1|       true|    Yemul|    2022-01-01|navalyemul@mail.com|[+123456,  +91232...|\n",
            "|     2000.4|   2004-05-30|      John|  2|       true|  Players|    2022-11-29|      john@mail.com|[+1 789 567 234 ,...|\n",
            "|     3000.0|   2016-03-18|    Killer|  3|       true|   Spykar|    2020-03-24|    killer@mail.com|  [ , +91 124137645]|\n",
            "|     1500.5|   1990-12-03|     Levis|  4|       true|    Jeans|    2022-03-02|     jeans@mail.com|[+1 789 567 234 ,  ]|\n",
            "|      500.5|   1995-02-19|      Puma|  5|       true|   Adidas|    2022-01-21|      puma@mail.com|              [ ,  ]|\n",
            "+-----------+-------------+----------+---+-----------+---------+--------------+-------------------+--------------------+\n",
            "\n"
          ]
        }
      ]
    },
    {
      "cell_type": "code",
      "source": [
        "df3.printSchema()"
      ],
      "metadata": {
        "colab": {
          "base_uri": "https://localhost:8080/"
        },
        "id": "Sv2wukhd78ii",
        "outputId": "f0dbc3b3-7de4-4a17-85ad-3e106b627ab6"
      },
      "execution_count": null,
      "outputs": [
        {
          "output_type": "stream",
          "name": "stdout",
          "text": [
            "root\n",
            " |-- amount_paid: double (nullable = true)\n",
            " |-- customer_from: date (nullable = true)\n",
            " |-- first_name: string (nullable = true)\n",
            " |-- id: long (nullable = true)\n",
            " |-- is_customer: boolean (nullable = true)\n",
            " |-- last_name: string (nullable = true)\n",
            " |-- last_update_ts: date (nullable = true)\n",
            " |-- mail: string (nullable = true)\n",
            " |-- phone_numbers: array (nullable = true)\n",
            " |    |-- element: string (containsNull = true)\n",
            "\n"
          ]
        }
      ]
    },
    {
      "cell_type": "code",
      "source": [
        "# %md\n",
        "# ### DataFrame Function\n",
        "# - select\n",
        "# - alias\n",
        "# - withColumnRenamed\n",
        "\n",
        "\n",
        "\n",
        "# ### Functions\n",
        "# - col\n",
        "# - concat\n",
        "# - lit"
      ],
      "metadata": {
        "id": "ZwBQ_Twb8g65"
      },
      "execution_count": null,
      "outputs": []
    },
    {
      "cell_type": "code",
      "source": [
        "df2.select(\"*\")"
      ],
      "metadata": {
        "colab": {
          "base_uri": "https://localhost:8080/"
        },
        "id": "6dtAZe8P8vQ8",
        "outputId": "f9423bd4-bb56-41bd-8e53-5391f2f040c7"
      },
      "execution_count": null,
      "outputs": [
        {
          "output_type": "execute_result",
          "data": {
            "text/plain": [
              "DataFrame[id: bigint, firstname: string, lastname: string, email : string, is_customer : boolean, amount_paid: double, dob: date, last_update: date]"
            ]
          },
          "metadata": {},
          "execution_count": 136
        }
      ]
    },
    {
      "cell_type": "code",
      "source": [
        "df2.show()"
      ],
      "metadata": {
        "colab": {
          "base_uri": "https://localhost:8080/"
        },
        "id": "1s-4MYuB86aN",
        "outputId": "05bf1ed3-a977-4c40-b6e1-faf1b61afb43"
      },
      "execution_count": null,
      "outputs": [
        {
          "output_type": "stream",
          "name": "stdout",
          "text": [
            "+---+---------+--------+-------------------+------------+-----------+----------+-----------+\n",
            "| id|firstname|lastname|             email |is_customer |amount_paid|       dob|last_update|\n",
            "+---+---------+--------+-------------------+------------+-----------+----------+-----------+\n",
            "|  1|   Claire|    Gute|clairegute@mail.com|        true|     1000.2|1991-05-03| 2022-01-01|\n",
            "|  2|  Brosina|  kodoli|   brosina@mail.com|       false|     2000.2|2000-04-03| 2022-03-05|\n",
            "|  3|   Andrew|    Adam|    andrew@mail.com|        true|     1500.2|1995-10-21| 2021-11-10|\n",
            "|  4|     John|   Allen|      john@mail.com|       false|       null|1997-06-30| 2019-03-31|\n",
            "+---+---------+--------+-------------------+------------+-----------+----------+-----------+\n",
            "\n"
          ]
        }
      ]
    },
    {
      "cell_type": "code",
      "source": [
        "# I want id ,firstname of given df2 data\n",
        "df2.select(\"id\",\"firstname\").show()"
      ],
      "metadata": {
        "colab": {
          "base_uri": "https://localhost:8080/"
        },
        "id": "KxhE56-K8-MC",
        "outputId": "34691f11-ddbd-42b0-820a-2747a0275312"
      },
      "execution_count": null,
      "outputs": [
        {
          "output_type": "stream",
          "name": "stdout",
          "text": [
            "+---+---------+\n",
            "| id|firstname|\n",
            "+---+---------+\n",
            "|  1|   Claire|\n",
            "|  2|  Brosina|\n",
            "|  3|   Andrew|\n",
            "|  4|     John|\n",
            "+---+---------+\n",
            "\n"
          ]
        }
      ]
    },
    {
      "cell_type": "code",
      "source": [
        "# import some keyword/tranformation\n",
        "from pyspark.sql.functions import col,concat,lit"
      ],
      "metadata": {
        "id": "CtcUHujf95Km"
      },
      "execution_count": null,
      "outputs": []
    },
    {
      "cell_type": "code",
      "source": [
        "from pyspark.sql.functions import *"
      ],
      "metadata": {
        "id": "-iOVr9w998fG"
      },
      "execution_count": null,
      "outputs": []
    },
    {
      "cell_type": "code",
      "source": [
        "df2.select(\"id\",df2.firstname,col(\"lastname\")).show()"
      ],
      "metadata": {
        "colab": {
          "base_uri": "https://localhost:8080/"
        },
        "id": "VZL4GCww_Ds0",
        "outputId": "2c775ec2-6d07-490e-88d6-a7e3e66614f3"
      },
      "execution_count": null,
      "outputs": [
        {
          "output_type": "stream",
          "name": "stdout",
          "text": [
            "+---+---------+--------+\n",
            "| id|firstname|lastname|\n",
            "+---+---------+--------+\n",
            "|  1|   Claire|    Gute|\n",
            "|  2|  Brosina|  kodoli|\n",
            "|  3|   Andrew|    Adam|\n",
            "|  4|     John|   Allen|\n",
            "+---+---------+--------+\n",
            "\n"
          ]
        }
      ]
    },
    {
      "cell_type": "code",
      "source": [
        "df1.select(\"id\",df1.firstname,col(\"lastname\"),df1[\"email \"]).show()"
      ],
      "metadata": {
        "colab": {
          "base_uri": "https://localhost:8080/"
        },
        "id": "Sv6QCZkB_ZyJ",
        "outputId": "36c2a3f1-d482-4acc-8e5a-a9916de252e4"
      },
      "execution_count": null,
      "outputs": [
        {
          "output_type": "stream",
          "name": "stdout",
          "text": [
            "+---+---------+--------+-------------------+\n",
            "| id|firstname|lastname|             email |\n",
            "+---+---------+--------+-------------------+\n",
            "|  1|   Claire|    Gute|clairegute@mail.com|\n",
            "|  2|  Brosina|  kodoli|   brosina@mail.com|\n",
            "|  3|   Andrew|    Adam|    andrew@mail.com|\n",
            "|  4|     John|   Allen|      john@mail.com|\n",
            "+---+---------+--------+-------------------+\n",
            "\n"
          ]
        }
      ]
    },
    {
      "cell_type": "code",
      "source": [
        "df2.select(col(\"id\").alias(\"emp_id\")).show()"
      ],
      "metadata": {
        "colab": {
          "base_uri": "https://localhost:8080/"
        },
        "id": "JFxHi-fgA1Is",
        "outputId": "3260a0a0-7349-4e4a-86f6-ef201f16b967"
      },
      "execution_count": null,
      "outputs": [
        {
          "output_type": "stream",
          "name": "stdout",
          "text": [
            "+------+\n",
            "|emp_id|\n",
            "+------+\n",
            "|     1|\n",
            "|     2|\n",
            "|     3|\n",
            "|     4|\n",
            "+------+\n",
            "\n"
          ]
        }
      ]
    },
    {
      "cell_type": "code",
      "source": [
        "df1.select(col(\"id\").alias(\"emp_id\")).show()"
      ],
      "metadata": {
        "colab": {
          "base_uri": "https://localhost:8080/"
        },
        "id": "Y6uX8M6kB17M",
        "outputId": "84839682-85de-4708-9e31-e2c2a168e9ab"
      },
      "execution_count": null,
      "outputs": [
        {
          "output_type": "stream",
          "name": "stdout",
          "text": [
            "+------+\n",
            "|emp_id|\n",
            "+------+\n",
            "|     1|\n",
            "|     2|\n",
            "|     3|\n",
            "|     4|\n",
            "+------+\n",
            "\n"
          ]
        }
      ]
    },
    {
      "cell_type": "code",
      "source": [
        "df1.select(concat(\"firstname\", \" \", \"lastname\").alias(\"fullname\")).show()"
      ],
      "metadata": {
        "colab": {
          "base_uri": "https://localhost:8080/",
          "height": 363
        },
        "id": "XFDDWVl8B_BC",
        "outputId": "df725e1f-8ce1-4e1f-ae5a-0aaf4681a2f2"
      },
      "execution_count": null,
      "outputs": [
        {
          "output_type": "error",
          "ename": "AnalysisException",
          "evalue": "ignored",
          "traceback": [
            "\u001b[0;31m---------------------------------------------------------------------------\u001b[0m",
            "\u001b[0;31mAnalysisException\u001b[0m                         Traceback (most recent call last)",
            "\u001b[0;32m<ipython-input-158-a4894f45be1f>\u001b[0m in \u001b[0;36m<cell line: 1>\u001b[0;34m()\u001b[0m\n\u001b[0;32m----> 1\u001b[0;31m \u001b[0mdf1\u001b[0m\u001b[0;34m.\u001b[0m\u001b[0mselect\u001b[0m\u001b[0;34m(\u001b[0m\u001b[0mconcat\u001b[0m\u001b[0;34m(\u001b[0m\u001b[0;34m\"firstname\"\u001b[0m\u001b[0;34m,\u001b[0m \u001b[0;34m\" \"\u001b[0m\u001b[0;34m,\u001b[0m \u001b[0;34m\"lastname\"\u001b[0m\u001b[0;34m)\u001b[0m\u001b[0;34m.\u001b[0m\u001b[0malias\u001b[0m\u001b[0;34m(\u001b[0m\u001b[0;34m\"fullname\"\u001b[0m\u001b[0;34m)\u001b[0m\u001b[0;34m)\u001b[0m\u001b[0;34m.\u001b[0m\u001b[0mshow\u001b[0m\u001b[0;34m(\u001b[0m\u001b[0;34m)\u001b[0m\u001b[0;34m\u001b[0m\u001b[0;34m\u001b[0m\u001b[0m\n\u001b[0m",
            "\u001b[0;32m/usr/local/lib/python3.10/dist-packages/pyspark/sql/dataframe.py\u001b[0m in \u001b[0;36mselect\u001b[0;34m(self, *cols)\u001b[0m\n\u001b[1;32m   3034\u001b[0m         \u001b[0;34m+\u001b[0m\u001b[0;34m-\u001b[0m\u001b[0;34m-\u001b[0m\u001b[0;34m-\u001b[0m\u001b[0;34m-\u001b[0m\u001b[0;34m-\u001b[0m\u001b[0;34m+\u001b[0m\u001b[0;34m-\u001b[0m\u001b[0;34m-\u001b[0m\u001b[0;34m-\u001b[0m\u001b[0;34m+\u001b[0m\u001b[0;34m\u001b[0m\u001b[0;34m\u001b[0m\u001b[0m\n\u001b[1;32m   3035\u001b[0m         \"\"\"\n\u001b[0;32m-> 3036\u001b[0;31m         \u001b[0mjdf\u001b[0m \u001b[0;34m=\u001b[0m \u001b[0mself\u001b[0m\u001b[0;34m.\u001b[0m\u001b[0m_jdf\u001b[0m\u001b[0;34m.\u001b[0m\u001b[0mselect\u001b[0m\u001b[0;34m(\u001b[0m\u001b[0mself\u001b[0m\u001b[0;34m.\u001b[0m\u001b[0m_jcols\u001b[0m\u001b[0;34m(\u001b[0m\u001b[0;34m*\u001b[0m\u001b[0mcols\u001b[0m\u001b[0;34m)\u001b[0m\u001b[0;34m)\u001b[0m\u001b[0;34m\u001b[0m\u001b[0;34m\u001b[0m\u001b[0m\n\u001b[0m\u001b[1;32m   3037\u001b[0m         \u001b[0;32mreturn\u001b[0m \u001b[0mDataFrame\u001b[0m\u001b[0;34m(\u001b[0m\u001b[0mjdf\u001b[0m\u001b[0;34m,\u001b[0m \u001b[0mself\u001b[0m\u001b[0;34m.\u001b[0m\u001b[0msparkSession\u001b[0m\u001b[0;34m)\u001b[0m\u001b[0;34m\u001b[0m\u001b[0;34m\u001b[0m\u001b[0m\n\u001b[1;32m   3038\u001b[0m \u001b[0;34m\u001b[0m\u001b[0m\n",
            "\u001b[0;32m/usr/local/lib/python3.10/dist-packages/py4j/java_gateway.py\u001b[0m in \u001b[0;36m__call__\u001b[0;34m(self, *args)\u001b[0m\n\u001b[1;32m   1320\u001b[0m \u001b[0;34m\u001b[0m\u001b[0m\n\u001b[1;32m   1321\u001b[0m         \u001b[0manswer\u001b[0m \u001b[0;34m=\u001b[0m \u001b[0mself\u001b[0m\u001b[0;34m.\u001b[0m\u001b[0mgateway_client\u001b[0m\u001b[0;34m.\u001b[0m\u001b[0msend_command\u001b[0m\u001b[0;34m(\u001b[0m\u001b[0mcommand\u001b[0m\u001b[0;34m)\u001b[0m\u001b[0;34m\u001b[0m\u001b[0;34m\u001b[0m\u001b[0m\n\u001b[0;32m-> 1322\u001b[0;31m         return_value = get_return_value(\n\u001b[0m\u001b[1;32m   1323\u001b[0m             answer, self.gateway_client, self.target_id, self.name)\n\u001b[1;32m   1324\u001b[0m \u001b[0;34m\u001b[0m\u001b[0m\n",
            "\u001b[0;32m/usr/local/lib/python3.10/dist-packages/pyspark/errors/exceptions/captured.py\u001b[0m in \u001b[0;36mdeco\u001b[0;34m(*a, **kw)\u001b[0m\n\u001b[1;32m    173\u001b[0m                 \u001b[0;31m# Hide where the exception came from that shows a non-Pythonic\u001b[0m\u001b[0;34m\u001b[0m\u001b[0;34m\u001b[0m\u001b[0m\n\u001b[1;32m    174\u001b[0m                 \u001b[0;31m# JVM exception message.\u001b[0m\u001b[0;34m\u001b[0m\u001b[0;34m\u001b[0m\u001b[0m\n\u001b[0;32m--> 175\u001b[0;31m                 \u001b[0;32mraise\u001b[0m \u001b[0mconverted\u001b[0m \u001b[0;32mfrom\u001b[0m \u001b[0;32mNone\u001b[0m\u001b[0;34m\u001b[0m\u001b[0;34m\u001b[0m\u001b[0m\n\u001b[0m\u001b[1;32m    176\u001b[0m             \u001b[0;32melse\u001b[0m\u001b[0;34m:\u001b[0m\u001b[0;34m\u001b[0m\u001b[0;34m\u001b[0m\u001b[0m\n\u001b[1;32m    177\u001b[0m                 \u001b[0;32mraise\u001b[0m\u001b[0;34m\u001b[0m\u001b[0;34m\u001b[0m\u001b[0m\n",
            "\u001b[0;31mAnalysisException\u001b[0m: [UNRESOLVED_COLUMN.WITH_SUGGESTION] A column or function parameter with name ` ` cannot be resolved. Did you mean one of the following? [`dob`, `id`, `email `, `lastname`, `firstname`].;\n'Project [concat(firstname#101, ' , lastname#102) AS fullname#446]\n+- LogicalRDD [id#100L, firstname#101, lastname#102, email #103, is_customer #104, amount_paid#105, dob#106, last_update#107], false\n"
          ]
        }
      ]
    },
    {
      "cell_type": "code",
      "source": [
        "df1v1=df1.select(\"id\",\n",
        "           concat(\"firstname\", lit(\" \"), \"lastname\").alias(\"fullname\"),\n",
        "           \"email \",\n",
        "           col(\"amount_paid\")\n",
        "          )"
      ],
      "metadata": {
        "id": "p97VAxRkCTZt"
      },
      "execution_count": null,
      "outputs": []
    },
    {
      "cell_type": "code",
      "source": [
        "df1v1.show()"
      ],
      "metadata": {
        "colab": {
          "base_uri": "https://localhost:8080/"
        },
        "id": "AWw2tHXGCg2P",
        "outputId": "7addbb14-6668-4e5c-e5ba-42a661c1bebc"
      },
      "execution_count": null,
      "outputs": [
        {
          "output_type": "stream",
          "name": "stdout",
          "text": [
            "+---+--------------+-------------------+-----------+\n",
            "| id|      fullname|             email |amount_paid|\n",
            "+---+--------------+-------------------+-----------+\n",
            "|  1|   Claire Gute|clairegute@mail.com|     1000.2|\n",
            "|  2|Brosina kodoli|   brosina@mail.com|     2000.2|\n",
            "|  3|   Andrew Adam|    andrew@mail.com|     1500.2|\n",
            "|  4|    John Allen|      john@mail.com|       null|\n",
            "+---+--------------+-------------------+-----------+\n",
            "\n"
          ]
        }
      ]
    },
    {
      "cell_type": "code",
      "source": [
        "df2.select(col(\"id\").alias(\"emp_id\"),\"*\").show()"
      ],
      "metadata": {
        "colab": {
          "base_uri": "https://localhost:8080/"
        },
        "id": "BHFohghZCkMX",
        "outputId": "8cf7da49-b514-4fd9-f6ca-bb3748a12287"
      },
      "execution_count": null,
      "outputs": [
        {
          "output_type": "stream",
          "name": "stdout",
          "text": [
            "+------+---+---------+--------+-------------------+------------+-----------+----------+-----------+\n",
            "|emp_id| id|firstname|lastname|             email |is_customer |amount_paid|       dob|last_update|\n",
            "+------+---+---------+--------+-------------------+------------+-----------+----------+-----------+\n",
            "|     1|  1|   Claire|    Gute|clairegute@mail.com|        true|     1000.2|1991-05-03| 2022-01-01|\n",
            "|     2|  2|  Brosina|  kodoli|   brosina@mail.com|       false|     2000.2|2000-04-03| 2022-03-05|\n",
            "|     3|  3|   Andrew|    Adam|    andrew@mail.com|        true|     1500.2|1995-10-21| 2021-11-10|\n",
            "|     4|  4|     John|   Allen|      john@mail.com|       false|       null|1997-06-30| 2019-03-31|\n",
            "+------+---+---------+--------+-------------------+------------+-----------+----------+-----------+\n",
            "\n"
          ]
        }
      ]
    },
    {
      "cell_type": "code",
      "source": [
        "help(df1.withColumnRenamed)"
      ],
      "metadata": {
        "colab": {
          "base_uri": "https://localhost:8080/"
        },
        "id": "6KE8mdtlC6Z7",
        "outputId": "22aad81d-6d7c-4b25-a8fd-12427e7b9fe3"
      },
      "execution_count": null,
      "outputs": [
        {
          "output_type": "stream",
          "name": "stdout",
          "text": [
            "Help on method withColumnRenamed in module pyspark.sql.dataframe:\n",
            "\n",
            "withColumnRenamed(existing: str, new: str) -> 'DataFrame' method of pyspark.sql.dataframe.DataFrame instance\n",
            "    Returns a new :class:`DataFrame` by renaming an existing column.\n",
            "    This is a no-op if the schema doesn't contain the given column name.\n",
            "    \n",
            "    .. versionadded:: 1.3.0\n",
            "    \n",
            "    .. versionchanged:: 3.4.0\n",
            "        Supports Spark Connect.\n",
            "    \n",
            "    Parameters\n",
            "    ----------\n",
            "    existing : str\n",
            "        string, name of the existing column to rename.\n",
            "    new : str\n",
            "        string, new name of the column.\n",
            "    \n",
            "    Returns\n",
            "    -------\n",
            "    :class:`DataFrame`\n",
            "        DataFrame with renamed column.\n",
            "    \n",
            "    Examples\n",
            "    --------\n",
            "    >>> df = spark.createDataFrame([(2, \"Alice\"), (5, \"Bob\")], schema=[\"age\", \"name\"])\n",
            "    >>> df.withColumnRenamed('age', 'age2').show()\n",
            "    +----+-----+\n",
            "    |age2| name|\n",
            "    +----+-----+\n",
            "    |   2|Alice|\n",
            "    |   5|  Bob|\n",
            "    +----+-----+\n",
            "\n"
          ]
        }
      ]
    },
    {
      "cell_type": "code",
      "source": [
        "df2.withColumnRenamed(\"id\",\"emp_id\").show()"
      ],
      "metadata": {
        "colab": {
          "base_uri": "https://localhost:8080/"
        },
        "id": "X9Nmh2lvDGmC",
        "outputId": "19a41640-5bf2-4a73-8f5a-f66bbaedc763"
      },
      "execution_count": null,
      "outputs": [
        {
          "output_type": "stream",
          "name": "stdout",
          "text": [
            "+------+---------+--------+-------------------+------------+-----------+----------+-----------+\n",
            "|emp_id|firstname|lastname|             email |is_customer |amount_paid|       dob|last_update|\n",
            "+------+---------+--------+-------------------+------------+-----------+----------+-----------+\n",
            "|     1|   Claire|    Gute|clairegute@mail.com|        true|     1000.2|1991-05-03| 2022-01-01|\n",
            "|     2|  Brosina|  kodoli|   brosina@mail.com|       false|     2000.2|2000-04-03| 2022-03-05|\n",
            "|     3|   Andrew|    Adam|    andrew@mail.com|        true|     1500.2|1995-10-21| 2021-11-10|\n",
            "|     4|     John|   Allen|      john@mail.com|       false|       null|1997-06-30| 2019-03-31|\n",
            "+------+---------+--------+-------------------+------------+-----------+----------+-----------+\n",
            "\n"
          ]
        }
      ]
    },
    {
      "cell_type": "code",
      "source": [
        "# Special Data types in spark\n",
        "\n",
        "# StructType\n",
        "# MapType\n",
        "# ArrayType"
      ],
      "metadata": {
        "id": "EARC2YSdDTZP"
      },
      "execution_count": null,
      "outputs": []
    },
    {
      "cell_type": "code",
      "source": [
        "from pyspark.sql.types import *"
      ],
      "metadata": {
        "id": "pMB4MfIYDsnA"
      },
      "execution_count": null,
      "outputs": []
    },
    {
      "cell_type": "code",
      "source": [
        "schema_pyspark=StructType([StructField(\"id\",IntegerType()),\n",
        "                            StructField(\"first_name\",StringType()),\n",
        "                            StructField(\"last_name\",StringType()),\n",
        "                            StructField(\"mail\",StringType()),\n",
        "                            StructField(\"phone_numbers\",StringType()),\n",
        "                            StructField(\"is_customer\",BooleanType()),\n",
        "                            StructField(\"amount_paid\",DoubleType()),\n",
        "                            StructField(\"customer_from\",DateType()),\n",
        "                            StructField(\"last_update_ts\",DateType()),\n",
        "\n",
        "])"
      ],
      "metadata": {
        "id": "cbgC45ZoDj9A"
      },
      "execution_count": null,
      "outputs": []
    },
    {
      "cell_type": "code",
      "source": [
        "df2new=spark.createDataFrame(users_json,schema_pyspark)"
      ],
      "metadata": {
        "id": "B__Z3a14Dpu9"
      },
      "execution_count": null,
      "outputs": []
    },
    {
      "cell_type": "code",
      "source": [
        "df2new.show()"
      ],
      "metadata": {
        "colab": {
          "base_uri": "https://localhost:8080/"
        },
        "id": "1iYKtLPJD61q",
        "outputId": "1792967a-c24d-4d68-a5ab-8e551114a2fd"
      },
      "execution_count": null,
      "outputs": [
        {
          "output_type": "stream",
          "name": "stdout",
          "text": [
            "+---+----------+---------+-------------------+--------------------+-----------+-----------+-------------+--------------+\n",
            "| id|first_name|last_name|               mail|       phone_numbers|is_customer|amount_paid|customer_from|last_update_ts|\n",
            "+---+----------+---------+-------------------+--------------------+-----------+-----------+-------------+--------------+\n",
            "|  1|     Naval|    Yemul|navalyemul@mail.com|[+123456,  +91232...|       true|     1000.2|   2002-12-31|    2022-01-01|\n",
            "|  2|      John|  Players|      john@mail.com|[+1 789 567 234 ,...|       true|     2000.4|   2004-05-30|    2022-11-29|\n",
            "|  3|    Killer|   Spykar|    killer@mail.com|  [ , +91 124137645]|       true|     3000.0|   2016-03-18|    2020-03-24|\n",
            "|  4|     Levis|    Jeans|     jeans@mail.com|[+1 789 567 234 ,  ]|       true|     1500.5|   1990-12-03|    2022-03-02|\n",
            "|  5|      Puma|   Adidas|      puma@mail.com|              [ ,  ]|       true|      500.5|   1995-02-19|    2022-01-21|\n",
            "+---+----------+---------+-------------------+--------------------+-----------+-----------+-------------+--------------+\n",
            "\n"
          ]
        }
      ]
    },
    {
      "cell_type": "code",
      "source": [
        "df2new.printSchema()"
      ],
      "metadata": {
        "colab": {
          "base_uri": "https://localhost:8080/"
        },
        "id": "9HXfVKeTEAdv",
        "outputId": "a0aaa7a6-7c60-4293-d9d6-beb77210fbba"
      },
      "execution_count": null,
      "outputs": [
        {
          "output_type": "stream",
          "name": "stdout",
          "text": [
            "root\n",
            " |-- id: integer (nullable = true)\n",
            " |-- first_name: string (nullable = true)\n",
            " |-- last_name: string (nullable = true)\n",
            " |-- mail: string (nullable = true)\n",
            " |-- phone_numbers: string (nullable = true)\n",
            " |-- is_customer: boolean (nullable = true)\n",
            " |-- amount_paid: double (nullable = true)\n",
            " |-- customer_from: date (nullable = true)\n",
            " |-- last_update_ts: date (nullable = true)\n",
            "\n"
          ]
        }
      ]
    },
    {
      "cell_type": "code",
      "source": [
        "schema_pyspark2=StructType([StructField(\"id\",IntegerType()),\n",
        "                            StructField(\"first_name\",StringType()),\n",
        "                            StructField(\"last_name\",StringType()),\n",
        "                            StructField(\"mail\",StringType()),\n",
        "                            StructField(\"phone_numbers\",ArrayType(StringType())),\n",
        "                            StructField(\"is_customer\",BooleanType()),\n",
        "                            StructField(\"amount_paid\",DoubleType()),\n",
        "                            StructField(\"customer_from\",DateType()),\n",
        "                            StructField(\"last_update_ts\",DateType()),\n",
        "\n",
        "])"
      ],
      "metadata": {
        "id": "6oQrH3WDENZ-"
      },
      "execution_count": null,
      "outputs": []
    },
    {
      "cell_type": "code",
      "source": [
        "df2new1=spark.createDataFrame(users_json,schema_pyspark2)"
      ],
      "metadata": {
        "id": "Y7_SvntFEceX"
      },
      "execution_count": null,
      "outputs": []
    },
    {
      "cell_type": "code",
      "source": [
        "df2new1.show()"
      ],
      "metadata": {
        "colab": {
          "base_uri": "https://localhost:8080/"
        },
        "id": "oKQDqz6MEhSt",
        "outputId": "c73b559c-6ad4-4107-e7de-b91bfa9fbf8c"
      },
      "execution_count": null,
      "outputs": [
        {
          "output_type": "stream",
          "name": "stdout",
          "text": [
            "+---+----------+---------+-------------------+--------------------+-----------+-----------+-------------+--------------+\n",
            "| id|first_name|last_name|               mail|       phone_numbers|is_customer|amount_paid|customer_from|last_update_ts|\n",
            "+---+----------+---------+-------------------+--------------------+-----------+-----------+-------------+--------------+\n",
            "|  1|     Naval|    Yemul|navalyemul@mail.com|[+123456,  +91232...|       true|     1000.2|   2002-12-31|    2022-01-01|\n",
            "|  2|      John|  Players|      john@mail.com|[+1 789 567 234 ,...|       true|     2000.4|   2004-05-30|    2022-11-29|\n",
            "|  3|    Killer|   Spykar|    killer@mail.com|  [ , +91 124137645]|       true|     3000.0|   2016-03-18|    2020-03-24|\n",
            "|  4|     Levis|    Jeans|     jeans@mail.com|[+1 789 567 234 ,  ]|       true|     1500.5|   1990-12-03|    2022-03-02|\n",
            "|  5|      Puma|   Adidas|      puma@mail.com|              [ ,  ]|       true|      500.5|   1995-02-19|    2022-01-21|\n",
            "+---+----------+---------+-------------------+--------------------+-----------+-----------+-------------+--------------+\n",
            "\n"
          ]
        }
      ]
    },
    {
      "cell_type": "code",
      "source": [
        "\n",
        "import datetime\n",
        "users_3=[{\"id\":1,\n",
        "       \"first_name\":'Naval',\n",
        "       \"last_name\":'Yemul',\n",
        "        \"mail\":'navalyemul@mail.com',\n",
        "        \"phone_numbers\": {\"home\": \"+1 234 567 789\",\"work\":\"+91 123987645\"},\n",
        "        \"is_customer\":True,\n",
        "        \"amount_paid\":1000.2,\n",
        "        \"customer_from\":datetime.date(2002,12,31),\n",
        "        \"last_update_ts\":datetime.date(2022,1,1)\n",
        "       },\n",
        "       {\"id\":2,\n",
        "       \"first_name\":'John',\n",
        "       \"last_name\":'Players',\n",
        "        \"mail\":'john@mail.com',\n",
        "        \"phone_numbers\":  {\"home\": \"+1 234 567 789 \",\"work\":\"+91 45387655\"},\n",
        "        \"is_customer\":True,\n",
        "        \"amount_paid\":2000.4,\n",
        "        \"customer_from\":datetime.date(2004,5,30),\n",
        "        \"last_update_ts\":datetime.date(2022,11,29)\n",
        "       },\n",
        "       {\"id\":3,\n",
        "       \"first_name\":'Killer',\n",
        "       \"last_name\":'Spykar',\n",
        "        \"mail\":'killer@mail.com',\n",
        "        \"phone_numbers\":{\"home\": \"+1 234 999 000 \",\"work\":\"+91 4538777\"},\n",
        "        \"is_customer\":True,\n",
        "        \"amount_paid\":3000.0,\n",
        "        \"customer_from\":datetime.date(2016,3,18),\n",
        "        \"last_update_ts\":datetime.date(2020,3,24)\n",
        "       },\n",
        "       {\"id\":4,\n",
        "       \"first_name\":'Levis',\n",
        "       \"last_name\":'Jeans',\n",
        "        \"mail\":'jeans@mail.com',\n",
        "        \"phone_numbers\": {\"home\": \"+1 234 222 888 \",\"work\":\"+91 000777\"},\n",
        "        \"is_customer\":True,\n",
        "        \"amount_paid\":1500.5,\n",
        "        \"customer_from\":datetime.date(1990,12,3),\n",
        "        \"last_update_ts\":datetime.date(2022,3,2)\n",
        "       },\n",
        "       {\"id\":5,\n",
        "       \"first_name\":'Puma',\n",
        "       \"last_name\":'Adidas',\n",
        "        \"mail\":'puma@mail.com',\n",
        "        \"phone_numbers\": {\"home\": \"+1 234 111 777 \",\"work\":\"+91 3336666\"},\n",
        "        \"is_customer\":True,\n",
        "        \"amount_paid\":500.5,\n",
        "        \"customer_from\":datetime.date(1995,2,19),\n",
        "        \"last_update_ts\":datetime.date(2022,1,21)\n",
        "       }\n",
        "\n",
        "]"
      ],
      "metadata": {
        "id": "Cax4isKaEnKl"
      },
      "execution_count": null,
      "outputs": []
    },
    {
      "cell_type": "code",
      "source": [
        "schema_pyspark3=StructType([StructField(\"id\",IntegerType()),\n",
        "                            StructField(\"first_name\",StringType()),\n",
        "                            StructField(\"last_name\",StringType()),\n",
        "                            StructField(\"mail\",StringType()),\n",
        "                            StructField(\"phone_numbers\",MapType(StringType(),StringType())),\n",
        "                            StructField(\"is_customer\",BooleanType()),\n",
        "                            StructField(\"amount_paid\",DoubleType()),\n",
        "                            StructField(\"customer_from\",DateType()),\n",
        "                            StructField(\"last_update_ts\",DateType()),\n",
        "\n",
        "])"
      ],
      "metadata": {
        "id": "u19lfSYvE2Bi"
      },
      "execution_count": null,
      "outputs": []
    },
    {
      "cell_type": "code",
      "source": [
        "df4=spark.createDataFrame(users_3,schema_pyspark3)"
      ],
      "metadata": {
        "id": "vO84_AbaE8pk"
      },
      "execution_count": null,
      "outputs": []
    },
    {
      "cell_type": "code",
      "source": [
        "df4.show()"
      ],
      "metadata": {
        "colab": {
          "base_uri": "https://localhost:8080/"
        },
        "id": "Q77J624dFCHK",
        "outputId": "64056bbd-f415-4d44-ad14-656b4662585c"
      },
      "execution_count": null,
      "outputs": [
        {
          "output_type": "stream",
          "name": "stdout",
          "text": [
            "+---+----------+---------+-------------------+--------------------+-----------+-----------+-------------+--------------+\n",
            "| id|first_name|last_name|               mail|       phone_numbers|is_customer|amount_paid|customer_from|last_update_ts|\n",
            "+---+----------+---------+-------------------+--------------------+-----------+-----------+-------------+--------------+\n",
            "|  1|     Naval|    Yemul|navalyemul@mail.com|{work -> +91 1239...|       true|     1000.2|   2002-12-31|    2022-01-01|\n",
            "|  2|      John|  Players|      john@mail.com|{work -> +91 4538...|       true|     2000.4|   2004-05-30|    2022-11-29|\n",
            "|  3|    Killer|   Spykar|    killer@mail.com|{work -> +91 4538...|       true|     3000.0|   2016-03-18|    2020-03-24|\n",
            "|  4|     Levis|    Jeans|     jeans@mail.com|{work -> +91 0007...|       true|     1500.5|   1990-12-03|    2022-03-02|\n",
            "|  5|      Puma|   Adidas|      puma@mail.com|{work -> +91 3336...|       true|      500.5|   1995-02-19|    2022-01-21|\n",
            "+---+----------+---------+-------------------+--------------------+-----------+-----------+-------------+--------------+\n",
            "\n"
          ]
        }
      ]
    },
    {
      "cell_type": "code",
      "source": [
        "df4.printSchema()"
      ],
      "metadata": {
        "colab": {
          "base_uri": "https://localhost:8080/"
        },
        "id": "E0k1sRqdFFbD",
        "outputId": "6c3680b8-b565-430e-b42c-140d33c4314d"
      },
      "execution_count": null,
      "outputs": [
        {
          "output_type": "stream",
          "name": "stdout",
          "text": [
            "root\n",
            " |-- id: integer (nullable = true)\n",
            " |-- first_name: string (nullable = true)\n",
            " |-- last_name: string (nullable = true)\n",
            " |-- mail: string (nullable = true)\n",
            " |-- phone_numbers: map (nullable = true)\n",
            " |    |-- key: string\n",
            " |    |-- value: string (valueContainsNull = true)\n",
            " |-- is_customer: boolean (nullable = true)\n",
            " |-- amount_paid: double (nullable = true)\n",
            " |-- customer_from: date (nullable = true)\n",
            " |-- last_update_ts: date (nullable = true)\n",
            "\n"
          ]
        }
      ]
    },
    {
      "cell_type": "code",
      "source": [
        "# Task wk_2 D_1\n",
        "Data= [(\"James\",\"\",\"Smith\",\"36636\",\"M\",60000),\n",
        "\n",
        "        (\"Michael\",\"Rose\",\"\",\"40288\",\"M\",70000),\n",
        "\n",
        "        (\"Robert\",\"\",\"Williams\",\"42114\",\"\",400000),\n",
        "\n",
        "        (\"Maria\",\"Anne\",\"Jones\",\"39192\",\"F\",500000),\n",
        "\n",
        "        (\"Jen\",\"Mary\",\"Brown\",\"\",\"F\",0)]"
      ],
      "metadata": {
        "id": "hYbcSMnOFSiH"
      },
      "execution_count": null,
      "outputs": []
    },
    {
      "cell_type": "code",
      "source": [
        "df=spark.createDataFrame(Data)"
      ],
      "metadata": {
        "id": "SYH46XklZhx6"
      },
      "execution_count": null,
      "outputs": []
    },
    {
      "cell_type": "code",
      "source": [],
      "metadata": {
        "id": "pCZGomTJZn3S"
      },
      "execution_count": null,
      "outputs": []
    }
  ]
}